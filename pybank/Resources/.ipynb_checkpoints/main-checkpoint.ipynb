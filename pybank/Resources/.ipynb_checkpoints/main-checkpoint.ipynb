{
 "cells": [
  {
   "cell_type": "code",
   "execution_count": 1,
   "id": "b19a0d48",
   "metadata": {},
   "outputs": [],
   "source": [
    "import os\n",
    "import csv"
   ]
  },
  {
   "cell_type": "code",
   "execution_count": 2,
   "id": "0c6445a6",
   "metadata": {},
   "outputs": [
    {
     "data": {
      "text/plain": [
       "'/Users/edtorrente/Desktop/python-challenge/pybank/Resources'"
      ]
     },
     "execution_count": 2,
     "metadata": {},
     "output_type": "execute_result"
    }
   ],
   "source": [
    "os.getcwd()"
   ]
  },
  {
   "cell_type": "code",
   "execution_count": 3,
   "id": "f555d99f",
   "metadata": {},
   "outputs": [],
   "source": [
    "budget_data = os.path.join(os.getcwd(),'Resources','budget_data.csv')"
   ]
  },
  {
   "cell_type": "code",
   "execution_count": 5,
   "id": "6cba64c5",
   "metadata": {},
   "outputs": [
    {
     "name": "stdout",
     "output_type": "stream",
     "text": [
      "/Users/edtorrente/Desktop/python-challenge/pybank/Resources/Resources/budget_data.csv\n"
     ]
    }
   ],
   "source": [
    "print(budget_data)"
   ]
  },
  {
   "cell_type": "code",
   "execution_count": 6,
   "id": "e697fa17",
   "metadata": {},
   "outputs": [],
   "source": [
    "import os\n",
    "import csv\n",
    "#read in data\n",
    "budget_data = os.path.join(os.getcwd(),'Resources', 'budget_data.csv')\n",
    "with open('budget_data.csv', 'r') as csvfile:\n",
    "    csvreader = csv.reader(csvfile, delimiter = ',')\n",
    "    data_head = next(csvreader)\n",
    "    \n",
    "    #empty lists to store values\n",
    "    total_number_months = []\n",
    "    total_amount_profit_losses = []\n",
    "    change_amount_profit_losses = []\n",
    "    \n",
    "    # going to through the empty lists and begin appending\n",
    "    for row in csvreader:\n",
    "        total_number_months.append(row[0])\n",
    "        total_amount_profit_losses.append(int(row[1]))\n",
    "    for _ in range(len(total_amount_profit_losses)-1):\n",
    "        change_amount_profit_losses.append(total_amount_profit_losses[_ + 1]- total_amount_profit_losses[_]) \n"
   ]
  },
  {
   "cell_type": "code",
   "execution_count": 7,
   "id": "9641c1e0",
   "metadata": {
    "scrolled": true
   },
   "outputs": [],
   "source": [
    "\n",
    "#finding the maxixum and minimum\n",
    "\n",
    "growth = max(change_amount_profit_losses)\n",
    "decline = min(change_amount_profit_losses)\n",
    "\n",
    "#begin the counter for profit growth or decline\n",
    "\n",
    "monthly_profit_growth = change_amount_profit_losses.index(max(change_amount_profit_losses)) + 1\n",
    "monthly_profit_decline = change_amount_profit_losses.index(min(change_amount_profit_losses)) + 1"
   ]
  },
  {
   "cell_type": "code",
   "execution_count": 8,
   "id": "acfb6e73",
   "metadata": {},
   "outputs": [],
   "source": [
    "budget_data_output = os.path.join(os.getcwd(), 'budget_data_output.txt')\n",
    "with open(budget_data_output, \"w\") as new:\n",
    "    new.write(\"Finacial Analysis\")\n",
    "    new.write(\"\\n\")\n",
    "    new.write(\"--------------------------------------\")\n",
    "    new.write(\"\\n\")\n",
    "    new.write(f\"Total Months:{len(total_number_months)}\")\n",
    "    new.write(\"\\n\")\n",
    "    new.write(f\"Total: ${sum(total_amount_profit_losses)}\")\n",
    "    new.write(\"\\n\")\n",
    "    new.write(f\"Average Change: {round(sum(change_amount_profit_losses)/len(change_amount_profit_losses),2)}\")\n",
    "    new.write(\"\\n\")\n",
    "    new.write(f\"Greatest Increase in Profits: {total_number_months[monthly_profit_growth]} (${(str(growth))})\")\n",
    "    new.write(\"\\n\")\n",
    "    new.write(f\"Greatest Decrease in Profits: {total_number_months[monthly_profit_decline]} (${(str(decline))})\")"
   ]
  },
  {
   "cell_type": "code",
   "execution_count": 9,
   "id": "649d2050",
   "metadata": {
    "scrolled": true
   },
   "outputs": [
    {
     "name": "stdout",
     "output_type": "stream",
     "text": [
      "Finacial Analysis\n",
      "--------------------------------------\n",
      "Total Months:86\n",
      "Total: $38382578\n",
      "Average Change: -2315.12\n",
      "Greatest Increase in Profits: Feb-2012 ($1926159)\n",
      "Greatest Decrease in Profits: Sep-2013 ($-2196167)\n"
     ]
    }
   ],
   "source": [
    "#print statements \n",
    "\n",
    "print(\"Finacial Analysis\")\n",
    "print(\"--------------------------------------\")\n",
    "print(f\"Total Months:{len(total_number_months)}\")\n",
    "print(f\"Total: ${sum(total_amount_profit_losses)}\")\n",
    "print(f\"Average Change: {round(sum(change_amount_profit_losses)/len(change_amount_profit_losses),2)}\")\n",
    "print(f\"Greatest Increase in Profits: {total_number_months[monthly_profit_growth]} (${(str(growth))})\")\n",
    "print(f\"Greatest Decrease in Profits: {total_number_months[monthly_profit_decline]} (${(str(decline))})\") "
   ]
  },
  {
   "cell_type": "code",
   "execution_count": null,
   "id": "30c29df3",
   "metadata": {},
   "outputs": [],
   "source": []
  }
 ],
 "metadata": {
  "kernelspec": {
   "display_name": "Python 3",
   "language": "python",
   "name": "python3"
  },
  "language_info": {
   "codemirror_mode": {
    "name": "ipython",
    "version": 3
   },
   "file_extension": ".py",
   "mimetype": "text/x-python",
   "name": "python",
   "nbconvert_exporter": "python",
   "pygments_lexer": "ipython3",
   "version": "3.8.2"
  }
 },
 "nbformat": 4,
 "nbformat_minor": 5
}
