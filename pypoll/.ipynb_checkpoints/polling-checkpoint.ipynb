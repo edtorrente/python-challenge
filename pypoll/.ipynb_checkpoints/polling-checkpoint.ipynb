{
 "cells": [
  {
   "cell_type": "markdown",
   "id": "eb66ccdd",
   "metadata": {},
   "source": [
    "# polling\n"
   ]
  },
  {
   "cell_type": "code",
   "execution_count": 1,
   "id": "8c0e582f",
   "metadata": {},
   "outputs": [
    {
     "data": {
      "text/plain": [
       "'/Users/edtorrente/Desktop/python-challenge/pypoll'"
      ]
     },
     "execution_count": 1,
     "metadata": {},
     "output_type": "execute_result"
    }
   ],
   "source": [
    "import os\n",
    "import csv\n",
    "\n",
    "os.getcwd()"
   ]
  },
  {
   "cell_type": "code",
   "execution_count": 2,
   "id": "60199d6c",
   "metadata": {},
   "outputs": [
    {
     "name": "stdout",
     "output_type": "stream",
     "text": [
      "/Users/edtorrente/Desktop/python-challenge/pypoll/election_data.csv\n"
     ]
    }
   ],
   "source": [
    "election_data_path = os.path.join(os.getcwd(), 'election_data.csv')\n",
    "print(election_data_path)"
   ]
  },
  {
   "cell_type": "code",
   "execution_count": 12,
   "id": "72b6ed80",
   "metadata": {},
   "outputs": [
    {
     "ename": "FileNotFoundError",
     "evalue": "[Errno 2] No such file or directory: 'election_data.csv'",
     "output_type": "error",
     "traceback": [
      "\u001b[1;31m---------------------------------------------------------------------------\u001b[0m",
      "\u001b[1;31mFileNotFoundError\u001b[0m                         Traceback (most recent call last)",
      "\u001b[1;32m<ipython-input-12-2f26917ea18f>\u001b[0m in \u001b[0;36m<module>\u001b[1;34m\u001b[0m\n\u001b[0;32m      1\u001b[0m \u001b[0melection_data\u001b[0m \u001b[1;33m=\u001b[0m \u001b[0mos\u001b[0m\u001b[1;33m.\u001b[0m\u001b[0mpath\u001b[0m\u001b[1;33m.\u001b[0m\u001b[0mjoin\u001b[0m\u001b[1;33m(\u001b[0m\u001b[0mos\u001b[0m\u001b[1;33m.\u001b[0m\u001b[0mgetcwd\u001b[0m\u001b[1;33m(\u001b[0m\u001b[1;33m)\u001b[0m\u001b[1;33m,\u001b[0m \u001b[1;34m'election_data.csv'\u001b[0m\u001b[1;33m)\u001b[0m\u001b[1;33m\u001b[0m\u001b[1;33m\u001b[0m\u001b[0m\n\u001b[1;32m----> 2\u001b[1;33m \u001b[1;32mwith\u001b[0m \u001b[0mopen\u001b[0m\u001b[1;33m(\u001b[0m\u001b[1;34m'election_data.csv'\u001b[0m\u001b[1;33m,\u001b[0m \u001b[1;34m'r'\u001b[0m\u001b[1;33m)\u001b[0m \u001b[1;32mas\u001b[0m \u001b[0mcsvfile\u001b[0m\u001b[1;33m:\u001b[0m\u001b[1;33m\u001b[0m\u001b[1;33m\u001b[0m\u001b[0m\n\u001b[0m\u001b[0;32m      3\u001b[0m     \u001b[0mcsvreader\u001b[0m \u001b[1;33m=\u001b[0m \u001b[0mcsv\u001b[0m\u001b[1;33m.\u001b[0m\u001b[0mreader\u001b[0m\u001b[1;33m(\u001b[0m\u001b[0mcsvfile\u001b[0m\u001b[1;33m,\u001b[0m \u001b[0mdelimiter\u001b[0m \u001b[1;33m=\u001b[0m \u001b[1;34m','\u001b[0m\u001b[1;33m)\u001b[0m\u001b[1;33m\u001b[0m\u001b[1;33m\u001b[0m\u001b[0m\n\u001b[0;32m      4\u001b[0m     \u001b[0mdata_head\u001b[0m \u001b[1;33m=\u001b[0m \u001b[0mnext\u001b[0m\u001b[1;33m(\u001b[0m\u001b[0mcsvreader\u001b[0m\u001b[1;33m)\u001b[0m\u001b[1;33m\u001b[0m\u001b[1;33m\u001b[0m\u001b[0m\n\u001b[0;32m      5\u001b[0m \u001b[1;33m\u001b[0m\u001b[0m\n",
      "\u001b[1;31mFileNotFoundError\u001b[0m: [Errno 2] No such file or directory: 'election_data.csv'"
     ]
    }
   ],
   "source": [
    "election_data = os.path.join(os.getcwd(), 'election_data.csv')\n",
    "with open('election_data.csv', 'r') as csvfile:\n",
    "    csvreader = csv.reader(csvfile, delimiter = ',')\n",
    "    data_head = next(csvreader)\n",
    "\n",
    "\n",
    "def results(election_data):\n",
    "    candidate_totals = 0  #setting counters for each candidate\n",
    "    \n",
    "    correy = 0;\n",
    "    khan = 0;\n",
    "    li = 0;\n",
    "    otooley = 0;\n",
    "    votes =  0;\n",
    "    voter_ID =[0];\n",
    "    candidate = [2];\n",
    "    \n",
    "    \n",
    "    for _ in election_data:\n",
    "        candidate_totals = canditate_totals + 1  #begin loop through election data\n",
    "        \n",
    "        #begin counting votes at column 3 (index 2)\n",
    "        candidate = _[2]\n",
    "        if candidate == \"Correy\":\n",
    "            correy = correy +1\n",
    "        if candidate == \"Khan\":\n",
    "            khan = khan + 1\n",
    "        if candidate == \"Li\":\n",
    "            li = li + 1\n",
    "        if candidate == \"O'Tooley\":\n",
    "            otooley = otooley + 1\n",
    "        \n",
    "        #compile results in a list\n",
    "        candidate_results = {\"Correy\": correy,\n",
    "                             \"Khan\":khan,\n",
    "                             \"Li\": li,\n",
    "                             \"O'Tooley\": otooley}\n",
    "                             \n",
    "        #determine winner of election data\n",
    "        for candidate, name in candidate_results.items():\n",
    "            if name > votes:\n",
    "                votes = name\n",
    "                winner = candidate\n",
    "                            "
   ]
  },
  {
   "cell_type": "code",
   "execution_count": null,
   "id": "2efd6dc8",
   "metadata": {},
   "outputs": [],
   "source": [
    "# Counting Votes Process\n",
    "\n",
    "# Create a Python script that analyzes the records to calculate:\n",
    "# a) The total number of votes cast\n",
    "# b) A complete list of candidates who received votes\n",
    "# c) The percentage of votes each candidate won\n",
    "# d) The total number of votes each candidate won\n",
    "# e) The winner of the election based on popular vote.\n",
    "# f) The final script should print the analysis to the terminal and export a text file with the results.\n",
    "\n",
    "# Import modules \n",
    "import os\n",
    "import csv\n",
    "\n",
    "# Set cvs path (directory - folder of the cvs file, file_name including file extension)\n",
    "csv_path = os.path.join('Resources', 'election_data.csv')\n",
    "\n",
    "# Create a function to calculate percentage of votes\n",
    "def percentage (part, whole):\n",
    "    return 100 * float(part)/float(whole)\n",
    "\n",
    "def pypoll(data):\n",
    "    # Define variables \n",
    "    # Reset the vote counts to zero\n",
    "    total_count = 0; khan = 0; correy = 0; li = 0; otooley = 0; vote_count = 0\n",
    "    voter_id = [0]  \n",
    "    candidate = [2]\n",
    "\n",
    "    # Begin the loop with for\n",
    "    for i in data:\n",
    "        # Find total count of votes \n",
    "        total_count = total_count + 1\n",
    "    \n",
    "        # Find votecount by candidates\n",
    "        candidate = i[2]\n",
    "        if candidate ==\"Khan\":\n",
    "           khan = khan + 1\n",
    "        if candidate ==\"Correy\":\n",
    "           correy = correy + 1\n",
    "        if candidate ==\"Li\":\n",
    "           li = li + 1\n",
    "        if candidate ==\"O'Tooley\":\n",
    "           otooley = otooley + 1\n",
    "                \n",
    "        # Create a list \n",
    "        candidate_vote = {\"Khan\": khan,\"Correy\": correy,\"Li\" :li, \"O'Tooley\": otooley}\n",
    "        \n",
    "    # Find the winner \n",
    "    for candidate, value in candidate_vote.items():\n",
    "        if value > vote_count:\n",
    "            vote_count = value\n",
    "            winner = candidate\n",
    "                \n",
    "    # Print the results       \n",
    "    print(f'Election Results'+'\\n')\n",
    "    print(f'-------------------------------'+'\\n')\n",
    "    print(f'Total Votes: {total_count}'+'\\n')\n",
    "    print(f'-------------------------------'+'\\n')\n",
    "    print(f'Khan: {percentage(khan,total_count):.3f}%  ({khan})')\n",
    "    print(f'Correy: {percentage(correy, total_count):.3f}%  ({correy})')\n",
    "    print(f'Li: {percentage(li, total_count):.3f}%  ({li})')\n",
    "    print(f'O\\'Tooley: {percentage(otooley, total_count):.3f}%  ({otooley})')\n",
    "    print(f'--------------------------------'+'\\n')\n",
    "    print(f'Winner: {winner} '+'\\n')\n",
    "    print(f'--------------------------------'+'\\n')    \n",
    "\n",
    "    # Set the path for the text file \n",
    "    pypoll_output = os.path.join('Analysis', \"PyPoll_Analysis.txt\")    \n",
    "   \n",
    "    # Write script to create text file with results \n",
    "    with open(pypoll_output, 'w') as text:\n",
    "        text.write(f'Election Results'+'\\n')\n",
    "        text.write(f'-------------------------------'+'\\n')\n",
    "        text.write(f'Total Votes: {total_count}'+'\\n')\n",
    "        text.write(f'-------------------------------'+'\\n')\n",
    "        text.write(f'Khan: {percentage(khan,total_count):.3f}%  ({khan})')\n",
    "        text.write(f'\\nCorrey: {percentage(correy, total_count):.3f}%  ({correy})')\n",
    "        text.write(f'\\nLi: {percentage(li, total_count):.3f}%  ({li})')\n",
    "        text.write(f'\\nO\\'Tooley: {percentage(otooley, total_count):.3f}%  ({otooley})')\n",
    "        text.write(f'\\n--------------------------------'+'\\n')\n",
    "        text.write(f'Winner: {winner} '+'\\n')\n",
    "        text.write(f'--------------------------------'+'\\n')   \n",
    "\n",
    "# Open and read the cvs file \n",
    "with open(csv_path, 'r', newline='') as csvfile:\n",
    "    csvreader = csv.reader(csvfile, delimiter = ',')\n",
    "    if csv.Sniffer().has_header:\n",
    "        next(csvreader)\n",
    "    # Use main function\n",
    "    pypoll(csvreader)"
   ]
  }
 ],
 "metadata": {
  "kernelspec": {
   "display_name": "Python 3",
   "language": "python",
   "name": "python3"
  },
  "language_info": {
   "codemirror_mode": {
    "name": "ipython",
    "version": 3
   },
   "file_extension": ".py",
   "mimetype": "text/x-python",
   "name": "python",
   "nbconvert_exporter": "python",
   "pygments_lexer": "ipython3",
   "version": "3.8.2"
  }
 },
 "nbformat": 4,
 "nbformat_minor": 5
}
